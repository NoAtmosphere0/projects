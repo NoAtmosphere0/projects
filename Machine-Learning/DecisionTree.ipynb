{
 "cells": [
  {
   "cell_type": "markdown",
   "metadata": {
    "colab_type": "text",
    "id": "b76YngfGGfyD"
   },
   "source": [
    "# Lab03: Decision Tree\n",
    "\n",
    "\n",
    "Student ID: 21127347  \n",
    "\n",
    "Student name: Đặng Hoàng Long"
   ]
  },
  {
   "cell_type": "markdown",
   "metadata": {
    "colab_type": "text",
    "id": "-xZqh-Z7GfyF"
   },
   "source": [
    "*This notebook is a lab assignment of the Artificial Intelligence course (CSC14003). The lab aims to familiarize students with the essence of Decision Trees, more specifically Iterative Dichotomiser 3 (ID3).*\n",
    "During the lab, I've learned a few things:\n",
    "- How to implement ID3 algorithm\n",
    "- How to use ID3 algorithm to solve a classification problem\n",
    "- How to evaluate the performance of a classifier using the confusion matrix, more specifically:\n",
    "  - Accuracy\n",
    "  - Precision\n",
    "  - Recall\n",
    "  - F1 score\n",
    "- The math behind the ID3 algorithm, such as\n",
    "  - Entropy\n",
    "  - Information Gain\n"
   ]
  },
  {
   "cell_type": "markdown",
   "metadata": {
    "colab_type": "text",
    "id": "--NRbml7GfyG"
   },
   "source": [
    "### Import library"
   ]
  },
  {
   "cell_type": "code",
   "execution_count": 1,
   "metadata": {
    "colab": {},
    "colab_type": "code",
    "id": "VhR1GCY5GfyH"
   },
   "outputs": [],
   "source": [
    "import matplotlib.pyplot as plt\n",
    "from sklearn import datasets\n",
    "import pandas as pd\n",
    "import numpy as np\n",
    "from sklearn.metrics import accuracy_score"
   ]
  },
  {
   "cell_type": "markdown",
   "metadata": {
    "colab_type": "text",
    "id": "L-OzYr2SGfyN"
   },
   "source": [
    "### Load Iris dataset"
   ]
  },
  {
   "cell_type": "code",
   "execution_count": 2,
   "metadata": {
    "colab": {},
    "colab_type": "code",
    "id": "oX5c3r4uGfyO"
   },
   "outputs": [],
   "source": [
    "from sklearn.model_selection import train_test_split\n",
    "iris=datasets.load_iris()\n",
    "\n",
    "X=iris.data\n",
    "y=iris.target\n",
    "\n",
    "#split dataset into training data and testing data\n",
    "X_train,X_test,y_train,y_test=train_test_split(X,y,test_size=0.33, random_state=42)"
   ]
  },
  {
   "cell_type": "markdown",
   "metadata": {
    "colab_type": "text",
    "id": "US1KgZBgGfyU"
   },
   "source": [
    "## 1. Decision Tree: Iterative Dichotomiser 3 (ID3)"
   ]
  },
  {
   "cell_type": "markdown",
   "metadata": {
    "colab_type": "text",
    "id": "4sQh1ieuGfyV"
   },
   "source": [
    "### 1.1 Information Gain"
   ]
  },
  {
   "cell_type": "markdown",
   "metadata": {
    "colab_type": "text",
    "id": "MSjCJR_eGfyV"
   },
   "source": [
    "Expected value of the self-information (entropy):"
   ]
  },
  {
   "cell_type": "markdown",
   "metadata": {
    "colab_type": "text",
    "id": "BZM7fmb0GfyW"
   },
   "source": [
    "$$Entropy=-\\sum_{i}^{n}p_ilog_{2}(p_i)$$"
   ]
  },
  {
   "cell_type": "markdown",
   "metadata": {
    "colab_type": "text",
    "id": "WDjtCHd_GfyX"
   },
   "source": [
    "The entropy function gets the smallest value if there is a value of $p_i$ equal to 1, reaches the maximum value if all $ p_i $ are equal. These properties of the entropy function make it is an expression of the disorder, or randomness of a system, ..."
   ]
  },
  {
   "cell_type": "code",
   "execution_count": 3,
   "metadata": {
    "colab": {},
    "colab_type": "code",
    "id": "kql-MFq-GfyX"
   },
   "outputs": [],
   "source": [
    "def entropy(counts, n_samples):\n",
    "    \"\"\"\n",
    "    Parameters:\n",
    "    -----------\n",
    "    counts: shape (n_classes): list number of samples in each class\n",
    "    n_samples: number of data samples\n",
    "    \n",
    "    -----------\n",
    "    return entropy \n",
    "    \"\"\"\n",
    "    entropy = 0\n",
    "    for count in counts:\n",
    "        if count != 0:\n",
    "            entropy += -count/n_samples * np.log2(count/n_samples)\n",
    "    return entropy\n"
   ]
  },
  {
   "cell_type": "code",
   "execution_count": 4,
   "metadata": {
    "colab": {},
    "colab_type": "code",
    "id": "AsGJfLhmGfyc"
   },
   "outputs": [],
   "source": [
    "def entropy_of_one_division(division): \n",
    "    \"\"\"\n",
    "    Returns entropy of a divided group of data\n",
    "    Data may have multiple classes\n",
    "    \"\"\"\n",
    "    n_samples = len(division)\n",
    "    n_classes = set(division)\n",
    "    \n",
    "    counts=[]\n",
    "    #count samples in each class then store it to list counts\n",
    "    for c in n_classes:\n",
    "        counts.append(sum(division==c))\n",
    "\n",
    "    #calculate entropy of each class\n",
    "    e = entropy(counts,n_samples)\n",
    "    \n",
    "    return e,n_samples\n",
    "\n",
    "\n",
    "def get_entropy(y_predict, y):\n",
    "    \"\"\"\n",
    "    Returns entropy of a split\n",
    "    y_predict is the split decision by cutoff, True/Fasle\n",
    "    \"\"\"\n",
    "    n = len(y)\n",
    "    entropy_true, n_true = entropy_of_one_division(y[y_predict]) # left hand side entropy\n",
    "    entropy_false, n_false = entropy_of_one_division(y[~y_predict]) # right hand side entropy\n",
    "    # overall entropy\n",
    "    s =  n_true/n * entropy_true + n_false/n * entropy_false\n",
    "    \n",
    "    return s"
   ]
  },
  {
   "cell_type": "markdown",
   "metadata": {
    "colab_type": "text",
    "id": "dWhnKZm9Gfyi"
   },
   "source": [
    "The information gain of classifying information set D by attribute A:\n",
    "$$ Gain(A)=Entrophy(D)-Entrophy_{A}(D)$$\n",
    "\n",
    "At each node in ID3, an attribute is chosen if its information gain is highest compare to others.\n",
    "\n",
    "All attributes of the Iris set are represented by continuous values. Therefore we need to represent them with discrete values. The simple way is to use a `cutoff` threshold to separate values of the data on each attribute into two part:` <cutoff` and `> = cutoff`.\n",
    "\n",
    "To find the best `cutoff` for an attribute, we replace` cutoff` with its values then compute the entropy, best `cutoff` achieved when value of entropy is smallest  $ \\left (\\arg \\min Entrophy_ {A} (D) \\right) $."
   ]
  },
  {
   "cell_type": "markdown",
   "metadata": {
    "colab_type": "text",
    "id": "tTKwaSw-Gfyj"
   },
   "source": [
    "### 1.2 Decision tree"
   ]
  },
  {
   "cell_type": "code",
   "execution_count": 5,
   "metadata": {
    "colab": {},
    "colab_type": "code",
    "id": "xp6omaz2Gfyj"
   },
   "outputs": [],
   "source": [
    "class DecisionTreeClassifier:\n",
    "    def __init__(self, tree=None, depth=0):\n",
    "        '''Parameters:\n",
    "        -----------------\n",
    "        tree: decision tree\n",
    "        depth: depth of decision tree after training'''\n",
    "        \n",
    "        self.depth = depth\n",
    "        self.tree=tree\n",
    "    def fit(self, X, y, node={}, depth=0):\n",
    "        '''Parameter:\n",
    "        -----------------\n",
    "        X: training data\n",
    "        y: label of training data\n",
    "        ------------------\n",
    "        return: node \n",
    "        \n",
    "        node: each node represented by cutoff value and column index, value and children.\n",
    "         - cutoff value is thresold where you divide your attribute\n",
    "         - column index is your data attribute index\n",
    "         - value of node is mean value of label indexes, \n",
    "           if a node is leaf all data samples will have same label\n",
    "        \n",
    "        Note that: we divide each attribute into 2 part => each node will have 2 children: left, right.\n",
    "        '''\n",
    "        \n",
    "        #Stop conditions\n",
    "        \n",
    "        #if all value of y are the same \n",
    "        if np.all(y==y[0]):\n",
    "            return {'val':y[0]}\n",
    "\n",
    "        else: \n",
    "            col_idx, cutoff, entropy = self.find_best_split_of_all(X, y)    # find one split given an information gain \n",
    "            y_left = y[X[:, col_idx] < cutoff]\n",
    "            y_right = y[X[:, col_idx] >= cutoff]\n",
    "            node = {'index_col':col_idx,\n",
    "                        'cutoff':cutoff,\n",
    "                   'val':np.mean(y)}\n",
    "            node['left'] = self.fit(X[X[:, col_idx] < cutoff], y_left, {}, depth+1)\n",
    "            node['right'] = self.fit(X[X[:, col_idx] >= cutoff], y_right, {}, depth+1)\n",
    "            self.depth += 1 \n",
    "            self.tree = node\n",
    "            return node\n",
    "    \n",
    "    def find_best_split_of_all(self, X, y):\n",
    "        col_idx = None\n",
    "        min_entropy = 1\n",
    "        cutoff = None\n",
    "        for i, col_data in enumerate(X.T):\n",
    "            entropy, cur_cutoff = self.find_best_split(col_data, y)\n",
    "            if entropy == 0:                   #best entropy\n",
    "                return i, cur_cutoff, entropy\n",
    "            elif entropy <= min_entropy:\n",
    "                min_entropy = entropy\n",
    "                col_idx = i\n",
    "                cutoff = cur_cutoff\n",
    "               \n",
    "        return col_idx, cutoff, min_entropy\n",
    "    \n",
    "    def find_best_split(self, col_data, y):\n",
    "        ''' Parameters:\n",
    "        -------------\n",
    "        col_data: data samples in column'''\n",
    "         \n",
    "        min_entropy = 10\n",
    "\n",
    "        #Loop through col_data find cutoff where entropy is minimum\n",
    "\n",
    "\n",
    "        for value in set(col_data):\n",
    "            y_predict = col_data < value\n",
    "            my_entropy = get_entropy(y_predict, y)\n",
    "            #TODO\n",
    "            if my_entropy < min_entropy:\n",
    "                min_entropy = my_entropy\n",
    "                cutoff = value\n",
    "            \n",
    "        return min_entropy, cutoff\n",
    "                                               \n",
    "    def predict(self, X):\n",
    "        tree = self.tree\n",
    "        pred = np.zeros(shape=len(X))\n",
    "        for i, c in enumerate(X):\n",
    "            pred[i] = self._predict(c)\n",
    "        return pred\n",
    "    \n",
    "    def _predict(self, row):\n",
    "        cur_layer = self.tree\n",
    "        while cur_layer.get('cutoff'):\n",
    "            if row[cur_layer['index_col']] < cur_layer['cutoff']:\n",
    "                cur_layer = cur_layer['left']\n",
    "            else:\n",
    "                cur_layer = cur_layer['right']\n",
    "        else:\n",
    "            return cur_layer.get('val')"
   ]
  },
  {
   "cell_type": "markdown",
   "metadata": {
    "colab_type": "text",
    "id": "v_OsIHd-Gfyq"
   },
   "source": [
    "### 1.3 Classification on Iris Dataset"
   ]
  },
  {
   "cell_type": "code",
   "execution_count": 6,
   "metadata": {
    "colab": {},
    "colab_type": "code",
    "id": "BNgHip1dGfyr",
    "outputId": "12173b62-c713-4ad2-ca10-81d8addc7112"
   },
   "outputs": [
    {
     "name": "stdout",
     "output_type": "stream",
     "text": [
      "Accuracy of your decision tree model on training data: 1.0\n",
      "Accuracy of your decision tree model: 0.96\n"
     ]
    }
   ],
   "source": [
    "model = DecisionTreeClassifier()\n",
    "tree = model.fit(X_train, y_train)\n",
    "pred=model.predict(X_train)\n",
    "print('Accuracy of your decision tree model on training data:', accuracy_score(y_train,pred))\n",
    "pred=model.predict(X_test)\n",
    "print('Accuracy of your decision tree model:', accuracy_score(y_test,pred))\n"
   ]
  },
  {
   "cell_type": "markdown",
   "metadata": {
    "colab_type": "text",
    "id": "gJaWYqt5Jvmp"
   },
   "source": [
    "**TODO**: F1, Recall and Precision report"
   ]
  },
  {
   "cell_type": "markdown",
   "metadata": {},
   "source": [
    "### 1.4 F1, Recall and Precision report"
   ]
  },
  {
   "cell_type": "markdown",
   "metadata": {},
   "source": [
    "**Confusion Matrix**"
   ]
  },
  {
   "cell_type": "code",
   "execution_count": 7,
   "metadata": {},
   "outputs": [
    {
     "name": "stdout",
     "output_type": "stream",
     "text": [
      "\n",
      "Confusion matrix: \n",
      "\n",
      "[[50  0  0]\n",
      " [ 0 49  1]\n",
      " [ 0  1 49]]\n",
      "\n",
      "Accuracy: \n",
      "0.9866666666666667\n"
     ]
    }
   ],
   "source": [
    "from sklearn.metrics import confusion_matrix\n",
    "\n",
    "# Load data\n",
    "X = iris.data\n",
    "y = iris.target\n",
    "\n",
    "# Get shape of data\n",
    "#print(X.shape)\n",
    "#print(y)\n",
    "\n",
    "# Predict and print out the result\n",
    "y_pred = model.predict(X)\n",
    "print(\"\")\n",
    "#print(y_pred)\n",
    "\n",
    "# Get confusion matrix\n",
    "print(\"Confusion matrix: \")\n",
    "cm = confusion_matrix(y, y_pred)\n",
    "print(\"\")\n",
    "print(cm)\n",
    "\n",
    "# Get accuracy\n",
    "print(\"\")\n",
    "print(\"Accuracy: \")\n",
    "print(accuracy_score(y, y_pred))"
   ]
  },
  {
   "cell_type": "markdown",
   "metadata": {},
   "source": [
    "Let's get fancy and plot out the confusion matrix"
   ]
  },
  {
   "cell_type": "code",
   "execution_count": 8,
   "metadata": {},
   "outputs": [
    {
     "data": {
      "image/png": "[encoded data removed]",
      "text/plain": [
       "<Figure size 480x480 with 2 Axes>"
      ]
     },
     "metadata": {},
     "output_type": "display_data"
    }
   ],
   "source": [
    "plt.matshow(cm, cmap=plt.cm.viridis)\n",
    "plt.title('Confusion matrix')\n",
    "plt.colorbar(format='%1.d')\n",
    "plt.ylabel('True label')\n",
    "plt.xlabel('Predicted label')\n",
    "plt.show()"
   ]
  },
  {
   "cell_type": "code",
   "execution_count": 9,
   "metadata": {},
   "outputs": [
    {
     "name": "stdout",
     "output_type": "stream",
     "text": [
      "Confusion Matrix: \n",
      "[[50  0  0]\n",
      " [ 0 49  1]\n",
      " [ 0  1 49]]\n",
      "\n",
      "Class 1: \n",
      "True Positive:  50\n",
      "False Negative:  0\n",
      "False Positive:  0\n",
      "True Negative:  100\n",
      "\n",
      "Class 2: \n",
      "True Positive:  49\n",
      "False Negative:  1\n",
      "False Positive:  1\n",
      "True Negative:  99\n",
      "\n",
      "Class 3: \n",
      "True Positive:  49\n",
      "False Negative:  1\n",
      "False Positive:  1\n",
      "True Negative:  99\n"
     ]
    }
   ],
   "source": [
    "# Print the confusion matrix again\n",
    "print(\"Confusion Matrix: \")\n",
    "print(cm)\n",
    "\n",
    "\n",
    "# Get all the values from the confusion matrix\n",
    "\n",
    "# Value for the first class\n",
    "tp_1 = cm[0][0]\n",
    "fn_1 = cm[0][1] + cm[0][2]\n",
    "fp_1 = cm[1][0] + cm[2][0]\n",
    "tn_1 = cm[1][1] + cm[1][2] + cm[2][1] + cm[2][2]\n",
    "\n",
    "# Value for the second class\n",
    "tp_2 = cm[1][1]\n",
    "fn_2 = cm[1][0] + cm[1][2]\n",
    "fp_2 = cm[0][1] + cm[2][1]\n",
    "tn_2 = cm[0][0] + cm[0][2] + cm[2][0] + cm[2][2]\n",
    "\n",
    "# Value for the third class\n",
    "tp_3 = cm[2][2]\n",
    "fn_3 = cm[2][0] + cm[2][1]\n",
    "fp_3 = cm[0][2] + cm[1][2]\n",
    "tn_3 = cm[0][0] + cm[0][1] + cm[1][0] + cm[1][1]\n",
    "\n",
    "print(\"\")\n",
    "print(\"Class 1: \")\n",
    "print(\"True Positive: \", tp_1)\n",
    "print(\"False Negative: \", fn_1)\n",
    "print(\"False Positive: \", fp_1)\n",
    "print(\"True Negative: \", tn_1)\n",
    "\n",
    "print(\"\")\n",
    "print(\"Class 2: \")\n",
    "print(\"True Positive: \", tp_2)\n",
    "print(\"False Negative: \", fn_2)\n",
    "print(\"False Positive: \", fp_2)\n",
    "print(\"True Negative: \", tn_2)\n",
    "\n",
    "print(\"\")\n",
    "print(\"Class 3: \")\n",
    "print(\"True Positive: \", tp_3)\n",
    "print(\"False Negative: \", fn_3)\n",
    "print(\"False Positive: \", fp_3)\n",
    "print(\"True Negative: \", tn_3)"
   ]
  },
  {
   "cell_type": "markdown",
   "metadata": {},
   "source": [
    "**Get accuracy, precision and recall scores for the prediction**\n",
    "- *Accuracy*:\n",
    "\n",
    "$$accuracy=\\frac{TP+TN}{TP+TN+FP+FN}$$\n",
    "\n",
    "- *Precision*:\n",
    "$$precision=\\frac{TP}{TP+FP}$$\n",
    "\n",
    "- *Recall*:\n",
    "$$recall=\\frac{TP}{TP+FN}$$\n",
    "\n",
    "We will use the above formulas to calculate the accuracy, precision and recall scores for the prediction."
   ]
  },
  {
   "cell_type": "code",
   "execution_count": 10,
   "metadata": {},
   "outputs": [
    {
     "name": "stdout",
     "output_type": "stream",
     "text": [
      "Accuracy for class 1:  1.0\n",
      "Precision for class 1:  1.0\n",
      "Recall for class 1:  1.0\n",
      "\n",
      "Accuracy for class 2:  0.9866666666666667\n",
      "Precision for class 2:  0.98\n",
      "Recall for class 2:  0.98\n",
      "\n",
      "Accuracy for class 3:  0.9866666666666667\n",
      "Precision for class 3:  0.98\n",
      "Recall for class 3:  0.98\n"
     ]
    }
   ],
   "source": [
    "# Get the metrics for each of the three classes\n",
    "accuracy_1 = (tp_1 + tn_1) / (tp_1 + tn_1 + fp_1 + fn_1)\n",
    "precision_1 = tp_1 / (tp_1 + fp_1)\n",
    "recall_1 = tp_1 / (tp_1 + fn_1)\n",
    "print(\"Accuracy for class 1: \", accuracy_1)\n",
    "print(\"Precision for class 1: \", precision_1)\n",
    "print(\"Recall for class 1: \", recall_1)\n",
    "\n",
    "print(\"\")\n",
    "accuracy_2 = (tp_2 + tn_2) / (tp_2 + tn_2 + fp_2 + fn_2)\n",
    "precision_2 = tp_2 / (tp_2 + fp_2)\n",
    "recall_2 = tp_2 / (tp_2 + fn_2)\n",
    "print(\"Accuracy for class 2: \", accuracy_2)\n",
    "print(\"Precision for class 2: \", precision_2)\n",
    "print(\"Recall for class 2: \", recall_2)\n",
    "\n",
    "print(\"\")\n",
    "accuracy_3 = (tp_3 + tn_3) / (tp_3 + tn_3 + fp_3 + fn_3)\n",
    "precision_3 = tp_3 / (tp_3 + fp_3)\n",
    "recall_3 = tp_3 / (tp_3 + fn_3)\n",
    "print(\"Accuracy for class 3: \", accuracy_3)\n",
    "print(\"Precision for class 3: \", precision_3)\n",
    "print(\"Recall for class 3: \", recall_3)"
   ]
  },
  {
   "cell_type": "markdown",
   "metadata": {},
   "source": [
    "Lastly, the formula for calculating the F1 score is:\n",
    "\n",
    "$$F1 = 2 \\times \\frac{precision \\times recall}{precision + recall}$$\n",
    "\n",
    "F1 score is the harmonic mean of precision and recall. Whereas the regular mean treats all values equally, the harmonic mean gives much more weight to low values. As a result, the classifier will only get a high F1 score if both recall and precision are high.\n",
    "\n",
    "Let's calculate the F1 score for the classifier we trained on the last screen."
   ]
  },
  {
   "cell_type": "code",
   "execution_count": 11,
   "metadata": {},
   "outputs": [
    {
     "name": "stdout",
     "output_type": "stream",
     "text": [
      "F1 score for class 1:  1.0\n",
      "F1 score for class 2:  0.98\n",
      "F1 score for class 3:  0.98\n"
     ]
    }
   ],
   "source": [
    "# Calculate F1 score for each class\n",
    "f1_1 = 2 * (precision_1 * recall_1) / (precision_1 + recall_1)\n",
    "f1_2 = 2 * (precision_2 * recall_2) / (precision_2 + recall_2)\n",
    "f1_3 = 2 * (precision_3 * recall_3) / (precision_3 + recall_3)\n",
    "\n",
    "print(\"F1 score for class 1: \", f1_1)\n",
    "print(\"F1 score for class 2: \", f1_2)\n",
    "print(\"F1 score for class 3: \", f1_3)"
   ]
  },
  {
   "cell_type": "markdown",
   "metadata": {},
   "source": [
    "### References\n",
    "- [T. Tigerschiold, “What is Accuracy, Precision, Recall and F1 Score?,” Labelf.ai, Nov. 17, 2022. https://www.labelf.ai/blog/what-is-accuracy-precision-recall-and-f1-score (accessed Aug. 10, 2023)](https://www.labelf.ai/blog/what-is-accuracy-precision-recall-and-f1-score)  \n",
    "  \n",
    "- [“Precision, Recall, and F1 Score: When Accuracy Betrays You,” Proclus Academy, 2022. https://proclusacademy.com/blog/explainer/precision-recall-f1-score-classification-models/ (accessed Aug. 10, 2023)‌](https://proclusacademy.com/blog/explainer/precision-recall-f1-score-classification-models/)  \n",
    "  \n",
    "- [“Decision Trees: Information Gain.” Available: https://courses.cs.washington.edu/courses/cse446/20wi/Lecture3/03_InformationGain.pdf](https://courses.cs.washington.edu/courses/cse446/20wi/Lecture3/03_InformationGain.pdf)  \n",
    "  \n",
    "- [A. Kumar, “Accuracy, Precision, Recall & F1-Score - Python Examples - Data Analytics,” Data Analytics, Mar. 17, 2023. https://vitalflux.com/accuracy-precision-recall-f1-score-python-example/. (accessed Aug. 10, 2023).‌](https://vitalflux.com/accuracy-precision-recall-f1-score-python-example/)  \n",
    "  \n",
    "- [J. Starmer, “Entropy (for data science) Clearly Explained!!!,” YouTube. Aug. 24, 2021. Accessed: Aug. 10, 2023. [YouTube Video]. Available: https://www.youtube.com/watch?v=YtebGVx-Fxw](https://www.youtube.com/watch?v=YtebGVx-Fxw)  \n",
    "\n",
    "- [\n",
    "Bharathi, “Latest Guide on Confusion Matrix for Multi-Class Classification,” Analytics Vidhya, Jun. 24, 2021. https://www.analyticsvidhya.com/blog/2021/06/confusion-matrix-for-multi-class-classification/ (accessed Aug. 10, 2023).‌](https://www.analyticsvidhya.com/blog/2021/06/confusion-matrix-for-multi-class-classification/)"
   ]
  }
 ],
 "metadata": {
  "colab": {
   "collapsed_sections": [],
   "name": "DecisionTree.ipynb",
   "provenance": []
  },
  "kernelspec": {
   "display_name": "Python 3 (ipykernel)",
   "language": "python",
   "name": "python3"
  },
  "language_info": {
   "codemirror_mode": {
    "name": "ipython",
    "version": 3
   },
   "file_extension": ".py",
   "mimetype": "text/x-python",
   "name": "python",
   "nbconvert_exporter": "python",
   "pygments_lexer": "ipython3",
   "version": "3.10.8"
  }
 },
 "nbformat": 4,
 "nbformat_minor": 1
}
